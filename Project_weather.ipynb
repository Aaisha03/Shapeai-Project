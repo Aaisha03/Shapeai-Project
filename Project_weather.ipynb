{
  "nbformat": 4,
  "nbformat_minor": 0,
  "metadata": {
    "colab": {
      "name": "Project weather.ipynb",
      "provenance": [],
      "collapsed_sections": [],
      "toc_visible": true,
      "authorship_tag": "ABX9TyM6u6hOgFe8OxrOnXQM6t6m",
      "include_colab_link": true
    },
    "kernelspec": {
      "name": "python3",
      "display_name": "Python 3"
    },
    "language_info": {
      "name": "python"
    }
  },
  "cells": [
    {
      "cell_type": "markdown",
      "metadata": {
        "id": "view-in-github",
        "colab_type": "text"
      },
      "source": [
        "<a href=\"https://colab.research.google.com/github/Aaisha03/Shapeai-Project/blob/main/Project_weather.ipynb\" target=\"_parent\"><img src=\"https://colab.research.google.com/assets/colab-badge.svg\" alt=\"Open In Colab\"/></a>"
      ]
    },
    {
      "cell_type": "code",
      "metadata": {
        "colab": {
          "base_uri": "https://localhost:8080/"
        },
        "id": "6g8G8a612RBF",
        "outputId": "8d2508cd-de67-427a-dda0-ecf42ff3a492"
      },
      "source": [
        " \n",
        "import requests\n",
        "#import os\n",
        "from datetime import datetime\n",
        "api_key = '87d845b0b6cf29baa1a73cc34b067a95'\n",
        "location = input(\"Enter the city name: \")\n",
        "complete_api_link = \"https://api.openweathermap.org/data/2.5/weather?q=\"+location+\"&appid=\"+api_key\n",
        "api_link = requests.get(complete_api_link)\n",
        "api_data = api_link.json()\n",
        "#create variables to store and display data\n",
        "temp_city = ((api_data['main']['temp']) - 273.15)\n",
        "weather_desc = api_data['weather'][0]['description']\n",
        "hmdt = api_data['main']['humidity']\n",
        "wind_spd = api_data['wind']['speed']\n",
        "date_time = datetime.now().strftime(\"%d %b %Y | %I:%M:%S %p\")\n",
        "print (\"-------------------------------------------------------------\")\n",
        "print (\"Weather Stats for - {}  || {}\".format(location.upper(), date_time))\n",
        "print (\"-------------------------------------------------------------\")\n",
        "print (\"Current temperature is: {:.2f} deg C\".format(temp_city))\n",
        "print (\"Current weather desc  :\",weather_desc)\n",
        "print (\"Current Humidity      :\",hmdt, '%')\n",
        "print (\"Current wind speed    :\",wind_spd ,'kmph')\n",
        "with open('Project weather.txt','w') as f:\n",
        "  Weather_stats = \"Weather Stats for - {}  || {}\\n\".format(location.upper(), date_time)\n",
        "  Current_temp = \"Current temperature is: {:.2f} deg C\\n\".format(temp_city)\n",
        "  Current_weather_desc = \"Current weather desc  :{}\\n\".format(weather_desc)\n",
        "  Humidity = \"Current Humidity      :{} %\\n\".format(hmdt)\n",
        "  Wind_speed = \"Current wind speed    :{} kmph\\n\".format(wind_spd) \n",
        "  f.write(Weather_stats + Current_temp + Current_weather_desc + Humidity + Wind_speed)"
      ],
      "execution_count": null,
      "outputs": [
        {
          "output_type": "stream",
          "text": [
            "Enter the city name: Udupi\n",
            "-------------------------------------------------------------\n",
            "Weather Stats for - UDUPI  || 22 Jun 2021 | 05:57:03 PM\n",
            "-------------------------------------------------------------\n",
            "Current temperature is: 27.58 deg C\n",
            "Current weather desc  : overcast clouds\n",
            "Current Humidity      : 85 %\n",
            "Current wind speed    : 1.72 kmph\n"
          ],
          "name": "stdout"
        }
      ]
    }
  ]
}